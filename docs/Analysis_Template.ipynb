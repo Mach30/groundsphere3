{
 "cells": [
  {
   "cell_type": "code",
   "execution_count": 1,
   "metadata": {},
   "outputs": [],
   "source": [
    "import pint\n",
    "import os, sys\n",
    "from utils import *\n",
    "\n",
    "lib_path = get_project_root()\n",
    "sys.path.insert(0, lib_path)\n",
    "\n",
    "from lib.calculator import LinkBudgetCalculator"
   ]
  },
  {
   "cell_type": "code",
   "execution_count": 2,
   "metadata": {},
   "outputs": [],
   "source": [
    "ureg = pint.UnitRegistry()\n",
    "\n",
    "# create the linkBudgetCalculator object\n",
    "lb_calc = LinkBudgetCalculator(ureg)"
   ]
  },
  {
   "cell_type": "markdown",
   "metadata": {},
   "source": [
    "## Analysis of Design Iteration X"
   ]
  },
  {
   "cell_type": "markdown",
   "metadata": {},
   "source": [
    "### Description\n",
    "\n",
    "<br>\n",
    "TEMPLATE <br>\n",
    "DESCRIPTION <br>\n",
    "FOR <br>\n",
    "DESIGNS <br>\n",
    "<br>\n",
    "\n",
    "![alt text](block_diagram_template.png \"Block Diagram\")\n",
    "*<p style=\"text-align: center;\">Block Diagram</p>*\n"
   ]
  },
  {
   "cell_type": "markdown",
   "metadata": {},
   "source": [
    "### Setup of Ground Station Values\n",
    "\n",
    "DESCRIBE PARAMETERS OF GROUND STATION\n",
    "\n",
    "Values for specific ground station are below:"
   ]
  },
  {
   "cell_type": "code",
   "execution_count": 3,
   "metadata": {
    "collapsed": true
   },
   "outputs": [],
   "source": [
    "lb_calc.altitude_ground_station   =  400 * ureg.meter\n",
    "lb_calc.implementation_loss       = -1.0   # dB\n",
    "lb_calc.polarization_losses       =  0.0   # dB\n",
    "lb_calc.receive_antenna_gain      =  5.4   # dB\n",
    "lb_calc.system_noise_figure       =  5.0   # dB"
   ]
  },
  {
   "cell_type": "markdown",
   "metadata": {},
   "source": [
    "### Setup of Satellite Values\n",
    "\n",
    "Values stated for a certain NOAA satellite. These values are covered in the documentation."
   ]
  },
  {
   "cell_type": "code",
   "execution_count": 4,
   "metadata": {
    "collapsed": true
   },
   "outputs": [],
   "source": [
    "lb_calc.altitude_satellite        =  860 * ureg.kilometer\n",
    "lb_calc.transmit_power            =  5.0 * ureg.watt\n",
    "lb_calc.transmit_losses           = -1.0   # dB\n",
    "lb_calc.transmit_antenna_gain     =  4.0   # dBi"
   ]
  },
  {
   "cell_type": "markdown",
   "metadata": {},
   "source": [
    "### Setup of Additional Values"
   ]
  },
  {
   "cell_type": "markdown",
   "metadata": {},
   "source": [
    "Create functions for the changing elevation angle and atmospheric loss values."
   ]
  },
  {
   "cell_type": "code",
   "execution_count": 5,
   "metadata": {
    "collapsed": true
   },
   "outputs": [],
   "source": [
    "# receive pointing loss for given elevation (at our frequency)\n",
    "# these values are different for each antenna system, so the values are defined here for clarity\n",
    "# see referenced antenna specifications for more information\n",
    "def rx_pointing_loss_at_elev(elev):\n",
    "    return -10.0 if elev < 5  * ureg.degrees else \\\n",
    "           -6.0  if elev < 20 * ureg.degrees else \\\n",
    "           -3.0  if elev < 35 * ureg.degrees else \\\n",
    "           -1.0  if elev < 50 * ureg.degrees else 0.0"
   ]
  },
  {
   "cell_type": "markdown",
   "metadata": {},
   "source": [
    "Set paramaters for the analysis here"
   ]
  },
  {
   "cell_type": "markdown",
   "metadata": {},
   "source": [
    "Additional values are needed for the channel characteristics. A few of these values will change during an orbital pass!"
   ]
  },
  {
   "cell_type": "code",
   "execution_count": 6,
   "metadata": {},
   "outputs": [],
   "source": [
    "lb_calc.orbit_elevation_angle     =  0.001          * ureg.degrees\n",
    "lb_calc.downlink_frequency        =  137.5          * ureg.megahertz\n",
    "lb_calc.target_energy_noise_ratio =  20.0             # dB\n",
    "lb_calc.noise_bandwidth           =  34.0           * ureg.kilohertz\n",
    "lb_calc.transmit_pointing_loss    = -3.0              # dB\n",
    "lb_calc.atmospheric_loss          =  atmloss_at_elev(ureg, lb_calc.orbit_elevation_angle)\n",
    "lb_calc.receiving_pointing_loss   =  rx_pointing_loss_at_elev(lb_calc.orbit_elevation_angle)"
   ]
  },
  {
   "cell_type": "markdown",
   "metadata": {},
   "source": [
    "### Analysis"
   ]
  },
  {
   "cell_type": "markdown",
   "metadata": {
    "collapsed": true
   },
   "source": [
    "Define variables for running a sweep over an orbital pass."
   ]
  },
  {
   "cell_type": "markdown",
   "metadata": {},
   "source": [
    "Increment through an entire orbital pass."
   ]
  },
  {
   "cell_type": "code",
   "execution_count": 56,
   "metadata": {},
   "outputs": [
    {
     "name": "stdout",
     "output_type": "stream",
     "text": [
      "Max elevation angle: 19.35832705132524\n",
      "Duration of pass: 0:14:23.999633\n"
     ]
    }
   ],
   "source": [
    "# get the elevation angles of a particular pass on X date\n",
    "# poor pass\n",
    "results = compute_angles('2018/04/01 18:00.00')\n",
    "# average pass\n",
    "#results = compute_angles('2018/04/01 04:00.00')\n",
    "# excellent pass\n",
    "#results = compute_angles('2018/04/01 14:00.00')\n",
    "\n",
    "outputs = []\n",
    "\n",
    "# DEBUG\n",
    "temp = []\n",
    "\n",
    "for i, angle in enumerate(results[1]):\n",
    "    # compute the budget\n",
    "    lb_calc.run()\n",
    "    \n",
    "    # ensure the computation was valid\n",
    "    if not lb_calc.is_valid:\n",
    "        raise Exception('Run at elevation angle ', lb_calc.orbit_elevation_angle, ' was not valid')\n",
    "    \n",
    "    # save output as a tuple to output list\n",
    "    outputs.append( (lb_calc.link_distance, \\\n",
    "                     lb_calc.downlink_path_loss, \\\n",
    "                     lb_calc.received_power, \\\n",
    "                     lb_calc.energy_noise_ratio, \\\n",
    "                     lb_calc.link_margin) )\n",
    "    \n",
    "    # increment the elevation angle\n",
    "    lb_calc.orbit_elevation_angle     = angle * ureg.degrees\n",
    "    lb_calc.atmospheric_loss          = atmloss_at_elev(ureg, lb_calc.orbit_elevation_angle)\n",
    "    lb_calc.receiving_pointing_loss   = rx_pointing_loss_at_elev(lb_calc.orbit_elevation_angle)\n",
    "\n",
    "print('Max elevation angle: {}'.format(max(results[1])))\n",
    "print('Duration of pass: {}'.format(results[2][-1] - results[2][0]))"
   ]
  },
  {
   "cell_type": "markdown",
   "metadata": {},
   "source": [
    "Once analysis has run, examine the results."
   ]
  },
  {
   "cell_type": "code",
   "execution_count": 57,
   "metadata": {},
   "outputs": [],
   "source": [
    "%matplotlib inline\n",
    "import matplotlib.pyplot as plt\n",
    "\n",
    "# extract lists of the variables\n",
    "distances = [ i[0].magnitude for i in outputs ]\n",
    "loss      = [ i[1] for i in outputs ]\n",
    "rx_pow    = [ i[2] for i in outputs ]\n",
    "eb_no     = [ i[3] for i in outputs ]\n",
    "margins   = [ i[4] for i in outputs ]\n",
    "\n",
    "# removing the last value which was zero for some reason\n",
    "angles = results[1]\n",
    "margins = margins[:-1]"
   ]
  },
  {
   "cell_type": "code",
   "execution_count": 58,
   "metadata": {},
   "outputs": [
    {
     "name": "stdout",
     "output_type": "stream",
     "text": [
      "Duration for link above margin: 0 seconds (0.0 minutes)\n"
     ]
    },
    {
     "data": {
      "image/png": "[encoded data removed]",
      "text/plain": [
       "<matplotlib.figure.Figure at 0x263bd8b3710>"
      ]
     },
     "metadata": {},
     "output_type": "display_data"
    }
   ],
   "source": [
    "plt.plot(range(0, len(margins)), margins, 'b', range(0, len(margins)), [0] * len(margins), 'r--')\n",
    "#plt.plot(angles, margins, 'b')\n",
    "\n",
    "total_s = 0\n",
    "for m in margins:\n",
    "    if m > 0:\n",
    "        total_s += 1\n",
    "\n",
    "print('Duration for link above margin: {} seconds ({:.3} minutes)'.format(total_s, total_s/60))"
   ]
  },
  {
   "cell_type": "markdown",
   "metadata": {},
   "source": [
    "### Conclusions\n",
    "\n",
    "DETAIL CONCLUSIONS FOR THIS ITERATION\n",
    "\n",
    "PROBABLY WILL VARY GREATLY FOR EACH ITERATION"
   ]
  },
  {
   "cell_type": "code",
   "execution_count": null,
   "metadata": {
    "collapsed": true
   },
   "outputs": [],
   "source": []
  }
 ],
 "metadata": {
  "kernelspec": {
   "display_name": "Python 3",
   "language": "python",
   "name": "python3"
  },
  "language_info": {
   "codemirror_mode": {
    "name": "ipython",
    "version": 3
   },
   "file_extension": ".py",
   "mimetype": "text/x-python",
   "name": "python",
   "nbconvert_exporter": "python",
   "pygments_lexer": "ipython3",
   "version": "3.6.1"
  }
 },
 "nbformat": 4,
 "nbformat_minor": 2
}
