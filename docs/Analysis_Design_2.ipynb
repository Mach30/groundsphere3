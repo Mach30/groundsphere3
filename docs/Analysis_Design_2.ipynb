{
 "cells": [
  {
   "cell_type": "code",
   "execution_count": 1,
   "metadata": {
    "collapsed": true
   },
   "outputs": [],
   "source": [
    "import pint\n",
    "import os, sys\n",
    "from utils import *\n",
    "\n",
    "lib_path = get_project_root()\n",
    "sys.path.insert(0, lib_path)\n",
    "\n",
    "from lib.calculator import LinkBudgetCalculator"
   ]
  },
  {
   "cell_type": "code",
   "execution_count": 2,
   "metadata": {
    "collapsed": true
   },
   "outputs": [],
   "source": [
    "ureg = pint.UnitRegistry()\n",
    "\n",
    "# create the linkBudgetCalculator object\n",
    "lb_calc = LinkBudgetCalculator(ureg)"
   ]
  },
  {
   "cell_type": "markdown",
   "metadata": {},
   "source": [
    "## Analysis of Design Iteration 2"
   ]
  },
  {
   "cell_type": "markdown",
   "metadata": {},
   "source": [
    "### Description\n",
    "\n",
    "<br>\n",
    "This analysis was done with a simple monopole whip antenna as the receiver.\n",
    "<br>\n",
    "\n",
    "![alt text](block_diagram_monopole.png \"Block Diagram\")\n",
    "*<p style=\"text-align: center;\">Block Diagram</p>*\n"
   ]
  },
  {
   "cell_type": "markdown",
   "metadata": {},
   "source": [
    "### Setup of Ground Station Values\n",
    "\n",
    "<br>\n",
    "Values for specific ground station are below:"
   ]
  },
  {
   "cell_type": "code",
   "execution_count": 3,
   "metadata": {
    "collapsed": true
   },
   "outputs": [],
   "source": [
    "lb_calc.altitude_ground_station   =  400 * ureg.meter\n",
    "lb_calc.implementation_loss       = -1.0   # dB\n",
    "lb_calc.polarization_losses       = -3.0   # dB\n",
    "lb_calc.receive_antenna_gain      =  5.0   # dB\n",
    "lb_calc.system_noise_figure       =  5.0   # dB"
   ]
  },
  {
   "cell_type": "markdown",
   "metadata": {},
   "source": [
    "### Setup of Satellite Values\n",
    "\n",
    "Values stated for a certain NOAA satellite. These values are covered in the documentation."
   ]
  },
  {
   "cell_type": "code",
   "execution_count": 4,
   "metadata": {
    "collapsed": true
   },
   "outputs": [],
   "source": [
    "lb_calc.altitude_satellite        =  860 * ureg.kilometer\n",
    "lb_calc.transmit_power            =  5.0 * ureg.watt\n",
    "lb_calc.transmit_losses           = -1.0   # dB\n",
    "lb_calc.transmit_antenna_gain     =  4.0   # dBi"
   ]
  },
  {
   "cell_type": "markdown",
   "metadata": {},
   "source": [
    "### Setup of Additional Values"
   ]
  },
  {
   "cell_type": "markdown",
   "metadata": {},
   "source": [
    "Create functions for the changing elevation angle and atmospheric loss values."
   ]
  },
  {
   "cell_type": "code",
   "execution_count": 5,
   "metadata": {
    "collapsed": true
   },
   "outputs": [],
   "source": [
    "# receive pointing loss for given elevation (at our frequency)\n",
    "# these values are different for each antenna system, so the values are defined here for clarity\n",
    "# see referenced antenna specifications for more information\n",
    "def rx_pointing_loss_at_elev(elev):\n",
    "    return  0.0  if elev < 10  * ureg.degrees else \\\n",
    "           -1.0  if elev < 20 * ureg.degrees else \\\n",
    "           -2.0  if elev < 40 * ureg.degrees else \\\n",
    "           -5.0  if elev < 50 * ureg.degrees else \\\n",
    "           -10.0 if elev < 70 * ureg.degrees else \\\n",
    "           -14.0 if elev < 80 * ureg.degrees else -24.0"
   ]
  },
  {
   "cell_type": "markdown",
   "metadata": {},
   "source": [
    "Set paramaters for the analysis here"
   ]
  },
  {
   "cell_type": "markdown",
   "metadata": {},
   "source": [
    "Additional values are needed for the channel characteristics. A few of these values will change during an orbital pass!"
   ]
  },
  {
   "cell_type": "code",
   "execution_count": 6,
   "metadata": {
    "collapsed": true
   },
   "outputs": [],
   "source": [
    "lb_calc.orbit_elevation_angle     =  0.001          * ureg.degrees\n",
    "lb_calc.downlink_frequency        =  137.5          * ureg.megahertz\n",
    "lb_calc.target_energy_noise_ratio =  20.0             # dB\n",
    "lb_calc.noise_bandwidth           =  34.0           * ureg.kilohertz\n",
    "lb_calc.transmit_pointing_loss    = -3.0              # dB\n",
    "lb_calc.atmospheric_loss          =  atmloss_at_elev(ureg, lb_calc.orbit_elevation_angle)\n",
    "lb_calc.receiving_pointing_loss   =  rx_pointing_loss_at_elev(lb_calc.orbit_elevation_angle)"
   ]
  },
  {
   "cell_type": "markdown",
   "metadata": {},
   "source": [
    "### Analysis"
   ]
  },
  {
   "cell_type": "markdown",
   "metadata": {
    "collapsed": true
   },
   "source": [
    "Define variables for running a sweep over an orbital pass."
   ]
  },
  {
   "cell_type": "markdown",
   "metadata": {},
   "source": [
    "Increment through an entire orbital pass."
   ]
  },
  {
   "cell_type": "code",
   "execution_count": 7,
   "metadata": {},
   "outputs": [
    {
     "name": "stdout",
     "output_type": "stream",
     "text": [
      "Max poor elevation angle: 11.132293955545649\n",
      "Duration of poor pass: 0:12:34.999722\n",
      "Max average elevation angle: 33.03981409098066\n",
      "Duration of average pass: 0:15:09.999876\n",
      "Max good elevation angle: 75.95193579697357\n",
      "Duration of good pass: 0:16:06.999473\n"
     ]
    }
   ],
   "source": [
    "# get the elevation angles of different pass types using a TLE\n",
    "# use an old TLE (line0, line1, line2)\n",
    "tle_old = ('NOAA 19 [+]', '1 33591U 09005A   18092.90091581  .00000055  00000-0  55075-4 0  9994',\n",
    "       '2 33591  99.1353  69.4619 0014005 174.2137 185.9198 14.12266303471284')\n",
    "results = []\n",
    "# poor pass\n",
    "#results.append(compute_angles(tle=tle_old, date='2018/04/03 02:00.00'))\n",
    "results.append( angles_poor )\n",
    "# average pass\n",
    "#results.append(compute_angles(tle=tle_old, date='2018/04/03 10:00.00'))\n",
    "results.append( angles_good )\n",
    "# excellent pass\n",
    "#results.append(compute_angles(tle=tle_old, date='2018/04/01 06:00.00'))\n",
    "results.append( angles_great )\n",
    "\n",
    "outputs = []\n",
    "outputs.append([])\n",
    "outputs.append([])\n",
    "outputs.append([])\n",
    "\n",
    "for n, res in enumerate(results):\n",
    "    for i, angle in enumerate(res[1]):\n",
    "        # compute the budget\n",
    "        lb_calc.run()\n",
    "\n",
    "        # ensure the computation was valid\n",
    "        if not lb_calc.is_valid:\n",
    "            raise Exception('Run at elevation angle ', lb_calc.orbit_elevation_angle, ' was not valid')\n",
    "\n",
    "        # save output as a tuple to output list\n",
    "        outputs[n].append( (lb_calc.link_distance, \\\n",
    "                         lb_calc.downlink_path_loss, \\\n",
    "                         lb_calc.received_power, \\\n",
    "                         lb_calc.energy_noise_ratio, \\\n",
    "                         lb_calc.link_margin) )\n",
    "\n",
    "        # increment the elevation angle\n",
    "        lb_calc.orbit_elevation_angle     = angle * ureg.degrees\n",
    "        lb_calc.atmospheric_loss          = atmloss_at_elev(ureg, lb_calc.orbit_elevation_angle)\n",
    "        lb_calc.receiving_pointing_loss   = rx_pointing_loss_at_elev(lb_calc.orbit_elevation_angle)\n",
    "\n",
    "# DEBUG\n",
    "print('Max poor elevation angle: {}'.format(max(results[0][1])))\n",
    "print('Duration of poor pass: {}'.format(results[0][2][-1] - results[0][2][0]))\n",
    "print('Max average elevation angle: {}'.format(max(results[1][1])))\n",
    "print('Duration of average pass: {}'.format(results[1][2][-1] - results[1][2][0]))\n",
    "print('Max good elevation angle: {}'.format(max(results[2][1])))\n",
    "print('Duration of good pass: {}'.format(results[2][2][-1] - results[2][2][0]))"
   ]
  },
  {
   "cell_type": "markdown",
   "metadata": {},
   "source": [
    "Once analysis has run, examine the results."
   ]
  },
  {
   "cell_type": "code",
   "execution_count": 8,
   "metadata": {
    "collapsed": true
   },
   "outputs": [],
   "source": [
    "%matplotlib inline\n",
    "import matplotlib.pyplot as plt\n",
    "\n",
    "# extract lists of the variables\n",
    "distances = []\n",
    "loss = []\n",
    "rx_pow = []\n",
    "eb_no = []\n",
    "margins = []\n",
    "for j in range(0, 3):\n",
    "    distances.append([ i[0].magnitude for i in outputs[j] ])\n",
    "    loss.append(     [ i[1] for i in outputs[j] ])\n",
    "    rx_pow.append(   [ i[2] for i in outputs[j] ])\n",
    "    eb_no.append(    [ i[3] for i in outputs[j] ])\n",
    "    margins.append(  [ i[4] for i in outputs[j] ])"
   ]
  },
  {
   "cell_type": "code",
   "execution_count": 9,
   "metadata": {},
   "outputs": [
    {
     "name": "stdout",
     "output_type": "stream",
     "text": [
      "Duration for Poor pass above margin: 0 seconds (0.0 minutes)\n",
      "Duration for Average pass above margin: 142 seconds (2.37 minutes)\n",
      "Duration for Good pass above margin: 123 seconds (2.05 minutes)\n"
     ]
    },
    {
     "data": {
      "image/png": "[encoded data removed]",
      "text/plain": [
       "<matplotlib.figure.Figure at 0x170ad3294a8>"
      ]
     },
     "metadata": {},
     "output_type": "display_data"
    },
    {
     "data": {
      "image/png": "[encoded data removed]",
      "text/plain": [
       "<matplotlib.figure.Figure at 0x170ad740550>"
      ]
     },
     "metadata": {},
     "output_type": "display_data"
    },
    {
     "data": {
      "image/png": "[encoded data removed]",
      "text/plain": [
       "<matplotlib.figure.Figure at 0x170ad7b8240>"
      ]
     },
     "metadata": {},
     "output_type": "display_data"
    }
   ],
   "source": [
    "fig = []\n",
    "types = ['Poor', 'Average', 'Good']\n",
    "\n",
    "for i in range(0, len(outputs)):\n",
    "    fig.append(plt.figure())\n",
    "    p = fig[i].add_subplot(111)\n",
    "    p.plot(range(0, len(margins[i])), margins[i], 'b', range(0, len(margins[i])), [0] * len(margins[i]), 'r--')\n",
    "    plt.title('Link Margins for Example {} Pass'.format(types[i]))\n",
    "    plt.xlabel('Time (s)')\n",
    "    plt.ylabel('Margin (dB)')\n",
    "\n",
    "    total_s = 0\n",
    "    for m in margins[i]:\n",
    "        if m > 0:\n",
    "            total_s += 1\n",
    "\n",
    "    print('Duration for {} pass above margin: {} seconds ({:.3} minutes)'.format(types[i], total_s, total_s/60))"
   ]
  },
  {
   "cell_type": "markdown",
   "metadata": {},
   "source": [
    "### Conclusions\n",
    "\n",
    "Considering the slightly lower gain and polarization losses, the link can only be completed for a fraction of the time that the first iteration can perform."
   ]
  },
  {
   "cell_type": "code",
   "execution_count": 10,
   "metadata": {},
   "outputs": [
    {
     "name": "stdout",
     "output_type": "stream",
     "text": [
      "April 1 at 0 oclock:   Never above.\n",
      "April 1 at 2 oclock:   Never above.\n",
      "April 1 at 4 oclock:   time above:  0:02:11.999988\n",
      "April 1 at 6 oclock:   time above:  0:00:46.999988\n",
      "April 1 at 8 oclock:   time above:  0:00:54\n",
      "April 1 at 10 oclock:   time above:  0:03:09.999837\n",
      "April 1 at 12 oclock:   time above:  0:01:07.999967\n",
      "April 1 at 14 oclock:   time above:  0:00:45.999978\n",
      "April 1 at 16 oclock:   time above:  0:01:09\n",
      "April 1 at 18 oclock:   Never above.\n",
      "April 1 at 20 oclock:   Never above.\n",
      "April 1 at 22 oclock:   Never above.\n",
      "April 2 at 0 oclock:   Never above.\n",
      "April 2 at 2 oclock:   Never above.\n",
      "April 2 at 4 oclock:   Never above.\n",
      "April 2 at 6 oclock:   time above:  0:00:47.999968\n",
      "April 2 at 8 oclock:   time above:  0:00:50.999999\n",
      "April 2 at 10 oclock:   time above:  0:03:23.999879\n",
      "April 2 at 12 oclock:   time above:  0:01:16.999933\n",
      "April 2 at 14 oclock:   time above:  0:00:46\n",
      "April 2 at 16 oclock:   time above:  0:00:59.999964\n",
      "April 2 at 18 oclock:   Never above.\n",
      "April 2 at 20 oclock:   Never above.\n",
      "April 2 at 22 oclock:   Never above.\n",
      "April 3 at 0 oclock:   Never above.\n",
      "April 3 at 2 oclock:   Never above.\n",
      "April 3 at 4 oclock:   Never above.\n",
      "April 3 at 6 oclock:   time above:  0:00:49.999965\n",
      "April 3 at 8 oclock:   time above:  0:00:49\n",
      "April 3 at 10 oclock:   time above:  0:02:21.999978\n",
      "April 3 at 12 oclock:   time above:  0:01:33.999938\n",
      "April 3 at 14 oclock:   time above:  0:00:48\n",
      "April 3 at 16 oclock:   time above:  0:00:53.999944\n",
      "April 3 at 18 oclock:   Never above.\n",
      "April 3 at 20 oclock:   Never above.\n",
      "April 3 at 22 oclock:   Never above.\n",
      "April 4 at 0 oclock:   Never above.\n",
      "April 4 at 2 oclock:   Never above.\n",
      "April 4 at 4 oclock:   Never above.\n",
      "April 4 at 6 oclock:   time above:  0:00:53\n",
      "April 4 at 8 oclock:   time above:  0:03:52.999900\n",
      "April 4 at 10 oclock:   time above:  0:02:22\n",
      "April 4 at 12 oclock:   time above:  0:03:44.999855\n",
      "April 4 at 14 oclock:   time above:  0:00:48.999996\n",
      "April 4 at 16 oclock:   time above:  0:00:50.999957\n",
      "April 4 at 18 oclock:   Never above.\n",
      "April 4 at 20 oclock:   Never above.\n",
      "April 4 at 22 oclock:   Never above.\n",
      "April 5 at 0 oclock:   Never above.\n",
      "April 5 at 2 oclock:   Never above.\n",
      "April 5 at 4 oclock:   Never above.\n",
      "April 5 at 6 oclock:   time above:  0:00:57.999957\n",
      "April 5 at 8 oclock:   time above:  0:01:21.999934\n",
      "April 5 at 10 oclock:   time above:  0:02:23.999979\n",
      "April 5 at 12 oclock:   time above:  0:03:28.999924\n",
      "April 5 at 14 oclock:   time above:  0:00:50\n",
      "April 5 at 16 oclock:   time above:  0:00:48.999985\n",
      "April 5 at 18 oclock:   Never above.\n",
      "April 5 at 20 oclock:   Never above.\n",
      "April 5 at 22 oclock:   Never above.\n",
      "April 6 at 0 oclock:   Never above.\n",
      "April 6 at 2 oclock:   Never above.\n",
      "April 6 at 4 oclock:   Never above.\n",
      "April 6 at 6 oclock:   time above:  0:00:45.999959\n",
      "April 6 at 8 oclock:   time above:  0:01:10.999974\n",
      "April 6 at 10 oclock:   time above:  0:02:28.999974\n",
      "April 6 at 12 oclock:   time above:  0:03:14.999919\n",
      "April 6 at 14 oclock:   time above:  0:00:52.999984\n",
      "April 6 at 16 oclock:   time above:  0:01:43.999997\n",
      "April 6 at 18 oclock:   Never above.\n",
      "April 6 at 20 oclock:   Never above.\n",
      "April 6 at 22 oclock:   Never above.\n",
      "April 7 at 0 oclock:   Never above.\n",
      "April 7 at 2 oclock:   Never above.\n",
      "April 7 at 4 oclock:   Never above.\n",
      "April 7 at 6 oclock:   time above:  0:00:45.999985\n",
      "April 7 at 8 oclock:   time above:  0:01:04.999998\n",
      "April 7 at 10 oclock:   time above:  0:02:36.999921\n",
      "April 7 at 12 oclock:   time above:  0:03:01.999920\n",
      "April 7 at 14 oclock:   time above:  0:00:56\n",
      "April 7 at 16 oclock:   time above:  0:02:55.999961\n",
      "April 7 at 18 oclock:   Never above.\n",
      "April 7 at 20 oclock:   Never above.\n",
      "April 7 at 22 oclock:   Never above.\n",
      "April 8 at 0 oclock:   Never above.\n",
      "April 8 at 2 oclock:   Never above.\n",
      "April 8 at 4 oclock:   time above:  0:03:36.999994\n"
     ]
    },
    {
     "ename": "KeyboardInterrupt",
     "evalue": "",
     "output_type": "error",
     "traceback": [
      "\u001b[1;31m---------------------------------------------------------------------------\u001b[0m",
      "\u001b[1;31mKeyboardInterrupt\u001b[0m                         Traceback (most recent call last)",
      "\u001b[1;32m<ipython-input-10-8a63f57e889f>\u001b[0m in \u001b[0;36m<module>\u001b[1;34m()\u001b[0m\n\u001b[0;32m     80\u001b[0m     \u001b[1;32mfor\u001b[0m \u001b[0mi\u001b[0m\u001b[1;33m,\u001b[0m \u001b[0mangle\u001b[0m \u001b[1;32min\u001b[0m \u001b[0menumerate\u001b[0m\u001b[1;33m(\u001b[0m\u001b[0mangs\u001b[0m\u001b[1;33m[\u001b[0m\u001b[1;36m1\u001b[0m\u001b[1;33m]\u001b[0m\u001b[1;33m)\u001b[0m\u001b[1;33m:\u001b[0m\u001b[1;33m\u001b[0m\u001b[0m\n\u001b[0;32m     81\u001b[0m         \u001b[1;31m# compute the budget\u001b[0m\u001b[1;33m\u001b[0m\u001b[1;33m\u001b[0m\u001b[0m\n\u001b[1;32m---> 82\u001b[1;33m         \u001b[0mlb_calc\u001b[0m\u001b[1;33m.\u001b[0m\u001b[0mrun\u001b[0m\u001b[1;33m(\u001b[0m\u001b[1;33m)\u001b[0m\u001b[1;33m\u001b[0m\u001b[0m\n\u001b[0m\u001b[0;32m     83\u001b[0m \u001b[1;33m\u001b[0m\u001b[0m\n\u001b[0;32m     84\u001b[0m         \u001b[1;31m# ensure the computation was valid\u001b[0m\u001b[1;33m\u001b[0m\u001b[1;33m\u001b[0m\u001b[0m\n",
      "\u001b[1;32mC:\\Users\\Skylar\\Documents\\Projects\\Mach30\\GroundSphere_Mk3\\trunk\\lib\\calculator\\link_budget_calculator.py\u001b[0m in \u001b[0;36mrun\u001b[1;34m(self)\u001b[0m\n\u001b[0;32m    620\u001b[0m         \u001b[1;31m# logging setup\u001b[0m\u001b[1;33m\u001b[0m\u001b[1;33m\u001b[0m\u001b[0m\n\u001b[0;32m    621\u001b[0m         \u001b[0mlogger\u001b[0m \u001b[1;33m=\u001b[0m \u001b[0mlogging\u001b[0m\u001b[1;33m.\u001b[0m\u001b[0mgetLogger\u001b[0m\u001b[1;33m(\u001b[0m\u001b[1;33m)\u001b[0m\u001b[1;33m\u001b[0m\u001b[0m\n\u001b[1;32m--> 622\u001b[1;33m         \u001b[0mlogger\u001b[0m\u001b[1;33m.\u001b[0m\u001b[0maddHandler\u001b[0m\u001b[1;33m(\u001b[0m\u001b[0mlogging\u001b[0m\u001b[1;33m.\u001b[0m\u001b[0mNullHandler\u001b[0m\u001b[1;33m(\u001b[0m\u001b[1;33m)\u001b[0m\u001b[1;33m)\u001b[0m\u001b[1;33m\u001b[0m\u001b[0m\n\u001b[0m\u001b[0;32m    623\u001b[0m         \u001b[0mlogging\u001b[0m\u001b[1;33m.\u001b[0m\u001b[0mdebug\u001b[0m\u001b[1;33m(\u001b[0m\u001b[1;34m'wavelength: {}'\u001b[0m\u001b[1;33m.\u001b[0m\u001b[0mformat\u001b[0m\u001b[1;33m(\u001b[0m\u001b[0mself\u001b[0m\u001b[1;33m.\u001b[0m\u001b[0m_downlink_wavelength\u001b[0m\u001b[1;33m)\u001b[0m\u001b[1;33m)\u001b[0m\u001b[1;33m\u001b[0m\u001b[0m\n\u001b[0;32m    624\u001b[0m \u001b[1;33m\u001b[0m\u001b[0m\n",
      "\u001b[1;32mC:\\Users\\Skylar\\Anaconda3\\lib\\logging\\__init__.py\u001b[0m in \u001b[0;36maddHandler\u001b[1;34m(self, hdlr)\u001b[0m\n\u001b[0;32m   1459\u001b[0m         \u001b[1;32mtry\u001b[0m\u001b[1;33m:\u001b[0m\u001b[1;33m\u001b[0m\u001b[0m\n\u001b[0;32m   1460\u001b[0m             \u001b[1;32mif\u001b[0m \u001b[1;32mnot\u001b[0m \u001b[1;33m(\u001b[0m\u001b[0mhdlr\u001b[0m \u001b[1;32min\u001b[0m \u001b[0mself\u001b[0m\u001b[1;33m.\u001b[0m\u001b[0mhandlers\u001b[0m\u001b[1;33m)\u001b[0m\u001b[1;33m:\u001b[0m\u001b[1;33m\u001b[0m\u001b[0m\n\u001b[1;32m-> 1461\u001b[1;33m                 \u001b[0mself\u001b[0m\u001b[1;33m.\u001b[0m\u001b[0mhandlers\u001b[0m\u001b[1;33m.\u001b[0m\u001b[0mappend\u001b[0m\u001b[1;33m(\u001b[0m\u001b[0mhdlr\u001b[0m\u001b[1;33m)\u001b[0m\u001b[1;33m\u001b[0m\u001b[0m\n\u001b[0m\u001b[0;32m   1462\u001b[0m         \u001b[1;32mfinally\u001b[0m\u001b[1;33m:\u001b[0m\u001b[1;33m\u001b[0m\u001b[0m\n\u001b[0;32m   1463\u001b[0m             \u001b[0m_releaseLock\u001b[0m\u001b[1;33m(\u001b[0m\u001b[1;33m)\u001b[0m\u001b[1;33m\u001b[0m\u001b[0m\n",
      "\u001b[1;31mKeyboardInterrupt\u001b[0m: "
     ]
    }
   ],
   "source": [
    "# other analysis for good/bad angles\n",
    "import ephem\n",
    "\n",
    "tle_old = ('NOAA 19 [+]', '1 33591U 09005A   18092.90091581  .00000055  00000-0  55075-4 0  9994',\n",
    "       '2 33591  99.1353  69.4619 0014005 174.2137 185.9198 14.12266303471284')\n",
    "\n",
    "\n",
    "# ---------------------------------------------------------------------------------------\n",
    "# look angles for NOAA-19 satellite pass\n",
    "# uses pyephem and online TLEs for next pass on given datetime\n",
    "def compute_angles(tle=None, date=None):\n",
    "\t# handle the date argument\n",
    "\tdate = datetime.datetime.now() if date is None else date \n",
    "\n",
    "\t# use an old TLE or the argument\n",
    "\tif tle is None:\n",
    "\t\tname = 'NOAA 19 [+]'\n",
    "\t\tline1 = '1 33591U 09005A   18092.90091581  .00000055  00000-0  55075-4 0  9994'\n",
    "\t\tline2 = '2 33591  99.1353  69.4619 0014005 174.2137 185.9198 14.12266303471284'\n",
    "\telse:\n",
    "\t\tname = tle[0]\n",
    "\t\tline1 = tle[1]\n",
    "\t\tline2 = tle[2]\n",
    "\n",
    "\t# read in the tle\n",
    "\ttle_rec = ephem.readtle(name, line1, line2)\n",
    "\n",
    "\t# make a new ephem observer\n",
    "\tobs = ephem.Observer()\n",
    "\tobs.lon = 37.2725\n",
    "\tobs.lat = -80.4327\n",
    "\tobs.elev = 400\n",
    "\tobs.date = date\n",
    "\n",
    "\t# compute the orbit trajectory stuff\n",
    "\ttle_rec.compute(obs)\n",
    "\n",
    "\t# find the next pass\n",
    "\tnext_pass = obs.next_pass(tle_rec)\n",
    "\t\n",
    "\t# move the current time to the next pass\n",
    "\tobs.date = next_pass[0]\n",
    "\ttle_rec.compute(obs)\n",
    "\n",
    "\t# empty lists to start\n",
    "\talts  = []\n",
    "\tazs   = []\n",
    "\ttimes = []\n",
    "\n",
    "\t# loop through entire pass\n",
    "\twhile tle_rec.alt > 0:\n",
    "\t\t# save results to list in radians\n",
    "\t\talts.append(math.degrees(float(tle_rec.alt)))\n",
    "\t\tazs.append(math.degrees(float(tle_rec.az)))\n",
    "\t\ttimes.append(obs.date.datetime())\n",
    "\n",
    "\t\t# compute next second timestep\n",
    "\t\tobs.date = obs.date.datetime() + datetime.timedelta(seconds=1)\n",
    "\t\t# compute next pointing angle\n",
    "\t\ttle_rec.compute(obs)\n",
    "\n",
    "\t# return a tuple with the lists\n",
    "\t# format is (az, el, time)\n",
    "\treturn (azs, alts, times)\n",
    "# -------------------------------------------------------------------------------\n",
    "\n",
    "date = 1\n",
    "hour = 0\n",
    "while True:\n",
    "    angs = compute_angles(tle=tle_old, date='2018/04/{} {}:00.00'.format(date, hour))\n",
    "\n",
    "    out = []\n",
    "\n",
    "    # increment the elevation angle\n",
    "    angle = 0.01\n",
    "    lb_calc.orbit_elevation_angle     = angle * ureg.degrees\n",
    "    lb_calc.atmospheric_loss          = atmloss_at_elev(ureg, lb_calc.orbit_elevation_angle)\n",
    "    lb_calc.receiving_pointing_loss   = rx_pointing_loss_at_elev(lb_calc.orbit_elevation_angle)\n",
    "\n",
    "    for i, angle in enumerate(angs[1]):\n",
    "        # compute the budget\n",
    "        lb_calc.run()\n",
    "\n",
    "        # ensure the computation was valid\n",
    "        if not lb_calc.is_valid:\n",
    "            raise Exception('Run at elevation angle ', lb_calc.orbit_elevation_angle, ' was not valid')\n",
    "\n",
    "        # save output as a tuple to output list\n",
    "        out.append( lb_calc.link_margin )\n",
    "\n",
    "        # increment the elevation angle\n",
    "        lb_calc.orbit_elevation_angle     = angle * ureg.degrees\n",
    "        lb_calc.atmospheric_loss          = atmloss_at_elev(ureg, lb_calc.orbit_elevation_angle)\n",
    "        lb_calc.receiving_pointing_loss   = rx_pointing_loss_at_elev(lb_calc.orbit_elevation_angle)\n",
    "\n",
    "    # find length of time with positive margin\n",
    "    above = False\n",
    "    first = 0\n",
    "    second = 0\n",
    "    for i, val in enumerate( out ):\n",
    "        if not above and val > 0:\n",
    "            first = i\n",
    "            above = True\n",
    "        if above and val < 0:\n",
    "            second = i\n",
    "            break\n",
    "    \n",
    "    print( 'April {} at {} oclock:   '.format(date, hour), end='' )\n",
    "    if second != first:\n",
    "        time_above = angs[2][second] - angs[2][first]\n",
    "        print( 'time above: ', str(angs[2][second] - angs[2][first]) )\n",
    "    else:\n",
    "        print( 'Never above.' )\n",
    "    \n",
    "    if hour < 22:\n",
    "        hour += 2\n",
    "    else:\n",
    "        hour = 0\n",
    "        date += 1\n",
    "        if date > 28:\n",
    "            break"
   ]
  },
  {
   "cell_type": "code",
   "execution_count": null,
   "metadata": {
    "collapsed": true
   },
   "outputs": [],
   "source": []
  },
  {
   "cell_type": "code",
   "execution_count": null,
   "metadata": {
    "collapsed": true
   },
   "outputs": [],
   "source": []
  }
 ],
 "metadata": {
  "kernelspec": {
   "display_name": "Python 3",
   "language": "python",
   "name": "python3"
  },
  "language_info": {
   "codemirror_mode": {
    "name": "ipython",
    "version": 3
   },
   "file_extension": ".py",
   "mimetype": "text/x-python",
   "name": "python",
   "nbconvert_exporter": "python",
   "pygments_lexer": "ipython3",
   "version": "3.6.1"
  }
 },
 "nbformat": 4,
 "nbformat_minor": 2
}
