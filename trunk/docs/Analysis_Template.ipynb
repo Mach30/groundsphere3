{
 "cells": [
  {
   "cell_type": "markdown",
   "metadata": {},
   "source": [
    "## Analysis of Design Iteration X"
   ]
  },
  {
   "cell_type": "markdown",
   "metadata": {},
   "source": [
    "### Description\n",
    "\n",
    "<br>\n",
    "TEMPLATE <br>\n",
    "DESCRIPTION <br>\n",
    "FOR <br>\n",
    "DESIGNS <br>\n",
    "<br>\n",
    "\n",
    "![alt text](block_diagram_template.png \"Block Diagram\")\n",
    "*<p style=\"text-align: center;\">Block Diagram</p>*\n"
   ]
  },
  {
   "cell_type": "markdown",
   "metadata": {},
   "source": [
    "### Analysis"
   ]
  },
  {
   "cell_type": "code",
   "execution_count": 2,
   "metadata": {},
   "outputs": [],
   "source": [
    "import pint\n",
    "import os, sys\n",
    "\n",
    "# ---------\n",
    "# add lib folder to the path\n",
    "def is_root(path):\n",
    "    \"\"\"\n",
    "    Determine whether the path passed is the root directory for the file system\n",
    "    \"\"\"\n",
    "    return not os.path.split(os.path.normpath(os.path.abspath(path)))[1]\n",
    "\n",
    "def is_root_project_dir(path):\n",
    "    \"\"\"\n",
    "    Determine whether the path specified is the root project directory by looking for \n",
    "    __mtk__.py in the directory. If the root file system directory is encountered, throw\n",
    "    an exception\n",
    "    \"\"\"\n",
    "    PROJECT_ROOT_FILE = '__mtk__.py'\n",
    "    \n",
    "    # make sure the path is in an OK format (ends with a directory separator)\n",
    "    search_path = str(path)\n",
    "    if (not search_path.endswith(os.sep)):\n",
    "        search_path += os.sep\n",
    "        \n",
    "    # make sure the path isn't the root. if it is, there's a problem\n",
    "    if (is_root(search_path)):\n",
    "        raise Exception('Failed to locate root MTK directory (directory containint %s)' % PROJECT_ROOT_FILE)\n",
    "        \n",
    "    # check to see whether we can find the project root file in this path\n",
    "    return os.path.isfile(search_path + PROJECT_ROOT_FILE)\n",
    "\n",
    "def get_project_root():\n",
    "    \"\"\"\n",
    "    Locate the project's root directory and return its location. If the root file system\n",
    "    directory is encountered, throw an exception\n",
    "    \"\"\"\n",
    "    search_path = os.getcwd() + os.sep\n",
    "    count = 0\n",
    "    while (not is_root_project_dir(search_path)):\n",
    "        search_path = os.path.normpath(os.path.abspath(search_path + '..' + os.sep)) + os.sep\n",
    "    return search_path\n",
    "\n",
    "lib_path = get_project_root()\n",
    "sys.path.insert(0, lib_path)\n",
    "# ----------------\n",
    "\n",
    "from lib.calculator import LinkBudgetCalculator\n",
    "from tests.link_budget_test_case_dataset import LinkBudgetTestCaseDataset"
   ]
  },
  {
   "cell_type": "markdown",
   "metadata": {},
   "source": [
    "Create a unit registry from pint that will be used throughout the analysis."
   ]
  },
  {
   "cell_type": "code",
   "execution_count": 3,
   "metadata": {
    "collapsed": true
   },
   "outputs": [],
   "source": [
    "ureg = pint.UnitRegistry()"
   ]
  },
  {
   "cell_type": "markdown",
   "metadata": {},
   "source": [
    "Create a function for the changing elevation angle and atmospheric loss values."
   ]
  },
  {
   "cell_type": "code",
   "execution_count": 4,
   "metadata": {
    "collapsed": true
   },
   "outputs": [],
   "source": [
    "def atmloss_at_elev(elev):\n",
    "    return -4.6 if elev < 5  * ureg.degrees else \\\n",
    "           -2.1 if elev < 10 * ureg.degrees else \\\n",
    "           -1.1 if elev < 30 * ureg.degrees else \\\n",
    "           -0.4 if elev < 45 * ureg.degrees else \\\n",
    "           -0.3 if elev < 90 * ureg.degrees else 0.0\n",
    "\n",
    "def rx_pointing_loss_at_elev(elev):\n",
    "    return -10.0 if elev < 5  * ureg.degrees else \\\n",
    "           -6.0  if elev < 20 * ureg.degrees else \\\n",
    "           -3.0  if elev < 35 * ureg.degrees else \\\n",
    "           -1.0  if elev < 50 * ureg.degrees else 0.0"
   ]
  },
  {
   "cell_type": "markdown",
   "metadata": {
    "collapsed": true
   },
   "source": [
    "Define variables for running a sweep over an orbital pass."
   ]
  },
  {
   "cell_type": "code",
   "execution_count": 5,
   "metadata": {
    "collapsed": true
   },
   "outputs": [],
   "source": [
    "elev_max = 90 * ureg.degrees\n",
    "elev_increment = 0.1"
   ]
  },
  {
   "cell_type": "markdown",
   "metadata": {},
   "source": [
    "Instantiate a calculator object and set init values."
   ]
  },
  {
   "cell_type": "code",
   "execution_count": 8,
   "metadata": {},
   "outputs": [],
   "source": [
    "lb_calc = LinkBudgetCalculator(ureg)\n",
    "\n",
    "tc_data = LinkBudgetTestCaseDataset(ureg)[0]\n",
    "\n",
    "lb_calc.altitude_ground_station   = tc_data.altitude_ground_station\n",
    "lb_calc.altitude_satellite        = tc_data.altitude_satellite\n",
    "lb_calc.orbit_elevation_angle     = 0.0\n",
    "lb_calc.downlink_frequency        = tc_data.downlink_frequency\n",
    "lb_calc.target_energy_noise_ratio = tc_data.target_energy_noise_ratio\n",
    "lb_calc.implementation_loss       = tc_data.implementation_loss\n",
    "lb_calc.transmit_power            = tc_data.transmit_power\n",
    "lb_calc.transmit_losses           = tc_data.transmit_losses\n",
    "lb_calc.transmit_antenna_gain     = tc_data.transmit_antenna_gain\n",
    "lb_calc.transmit_pointing_loss    = tc_data.transmit_pointing_loss\n",
    "lb_calc.polarization_losses       = tc_data.polarization_losses\n",
    "lb_calc.atmospheric_loss          = atmloss_at_elev(lb_calc.orbit_elevation_angle)\n",
    "lb_calc.receive_antenna_gain      = tc_data.receive_antenna_gain\n",
    "lb_calc.receiving_pointing_loss   = rx_pointing_loss_at_elev(lb_calc.orbit_elevation_angle)\n",
    "lb_calc.system_noise_figure       = tc_data.system_noise_figure\n",
    "lb_calc.noise_bandwidth           = tc_data.noise_bandwidth"
   ]
  },
  {
   "cell_type": "markdown",
   "metadata": {},
   "source": [
    "Increment through an entire orbital pass."
   ]
  },
  {
   "cell_type": "code",
   "execution_count": 9,
   "metadata": {},
   "outputs": [
    {
     "ename": "AttributeError",
     "evalue": "'float' object has no attribute 'magnitude'",
     "output_type": "error",
     "traceback": [
      "\u001b[1;31m---------------------------------------------------------------------------\u001b[0m",
      "\u001b[1;31mAttributeError\u001b[0m                            Traceback (most recent call last)",
      "\u001b[1;32m<ipython-input-9-c8f19a048ca6>\u001b[0m in \u001b[0;36m<module>\u001b[1;34m()\u001b[0m\n\u001b[0;32m      4\u001b[0m \u001b[1;32mwhile\u001b[0m \u001b[0mrising\u001b[0m \u001b[1;32mor\u001b[0m \u001b[0mlb_calc\u001b[0m\u001b[1;33m.\u001b[0m\u001b[0morbit_elevation_angle\u001b[0m\u001b[1;33m.\u001b[0m\u001b[0mmagnitude\u001b[0m \u001b[1;33m>\u001b[0m \u001b[1;36m0\u001b[0m\u001b[1;33m:\u001b[0m\u001b[1;33m\u001b[0m\u001b[0m\n\u001b[0;32m      5\u001b[0m     \u001b[1;31m# compute the budget\u001b[0m\u001b[1;33m\u001b[0m\u001b[1;33m\u001b[0m\u001b[0m\n\u001b[1;32m----> 6\u001b[1;33m     \u001b[0mlb_calc\u001b[0m\u001b[1;33m.\u001b[0m\u001b[0mrun\u001b[0m\u001b[1;33m(\u001b[0m\u001b[1;33m)\u001b[0m\u001b[1;33m\u001b[0m\u001b[0m\n\u001b[0m\u001b[0;32m      7\u001b[0m \u001b[1;33m\u001b[0m\u001b[0m\n\u001b[0;32m      8\u001b[0m     \u001b[1;31m# ensure the computation was valid\u001b[0m\u001b[1;33m\u001b[0m\u001b[1;33m\u001b[0m\u001b[0m\n",
      "\u001b[1;32mC:\\Users\\Skylar\\Documents\\Projects\\Mach30\\GroundSphere_Mk3\\trunk\\lib\\calculator\\link_budget_calculator.py\u001b[0m in \u001b[0;36mrun\u001b[1;34m(self)\u001b[0m\n\u001b[0;32m    594\u001b[0m         \u001b[1;32mif\u001b[0m \u001b[1;33m(\u001b[0m\u001b[0mself\u001b[0m\u001b[1;33m.\u001b[0m\u001b[0m_altitude_satellite\u001b[0m\u001b[1;33m.\u001b[0m\u001b[0mmagnitude\u001b[0m \u001b[1;33m<=\u001b[0m \u001b[1;36m0\u001b[0m\u001b[1;33m)\u001b[0m\u001b[1;33m:\u001b[0m\u001b[1;33m\u001b[0m\u001b[0m\n\u001b[0;32m    595\u001b[0m             \u001b[1;32mraise\u001b[0m \u001b[0mValueError\u001b[0m\u001b[1;33m(\u001b[0m\u001b[1;34m'Invalid Satellite Altitude'\u001b[0m\u001b[1;33m)\u001b[0m\u001b[1;33m\u001b[0m\u001b[0m\n\u001b[1;32m--> 596\u001b[1;33m         \u001b[1;32mif\u001b[0m \u001b[1;33m(\u001b[0m\u001b[0mself\u001b[0m\u001b[1;33m.\u001b[0m\u001b[0m_orbit_elevation_angle\u001b[0m\u001b[1;33m.\u001b[0m\u001b[0mmagnitude\u001b[0m \u001b[1;33m<=\u001b[0m \u001b[1;36m0\u001b[0m\u001b[1;33m)\u001b[0m\u001b[1;33m:\u001b[0m\u001b[1;33m\u001b[0m\u001b[0m\n\u001b[0m\u001b[0;32m    597\u001b[0m             \u001b[1;32mraise\u001b[0m \u001b[0mValueError\u001b[0m\u001b[1;33m(\u001b[0m\u001b[1;34m'Invalid elevation angle'\u001b[0m\u001b[1;33m)\u001b[0m\u001b[1;33m\u001b[0m\u001b[0m\n\u001b[0;32m    598\u001b[0m         \u001b[1;32mif\u001b[0m \u001b[1;33m(\u001b[0m\u001b[0mself\u001b[0m\u001b[1;33m.\u001b[0m\u001b[0m_system_noise_figure\u001b[0m \u001b[1;33m<\u001b[0m \u001b[1;36m0\u001b[0m\u001b[1;33m)\u001b[0m\u001b[1;33m:\u001b[0m\u001b[1;33m\u001b[0m\u001b[0m\n",
      "\u001b[1;31mAttributeError\u001b[0m: 'float' object has no attribute 'magnitude'"
     ]
    }
   ],
   "source": [
    "outputs = []\n",
    "rising  = True\n",
    "\n",
    "while rising or lb_calc.orbit_elevation_angle.magnitude > 0:\n",
    "    # compute the budget\n",
    "    lb_calc.run()\n",
    "    \n",
    "    # ensure the computation was valid\n",
    "    if not lb_calc.is_valid:\n",
    "        raise Exception('Run at elevation angle ', lb_calc.orbit_elevation_angle, ' was not valid')\n",
    "    \n",
    "    # save output as a tuple to output list\n",
    "    outputs.append( (lb_calc.link_distance, \\\n",
    "                     lb_calc.downlink_path_loss, \\\n",
    "                     lb_calc.received_power, \\\n",
    "                     lb_calc.energy_noise_ratio, \\\n",
    "                     lb_calc.link_margin) )\n",
    "    \n",
    "    # handle the rising variable\n",
    "    rising = not (not rising or lb_calc.orbit_elevation_angle >= elev_max)\n",
    "    \n",
    "    # increment the elevation angle\n",
    "    lb_calc.orbit_elevation_angle += elev_increment if rising else -elev_increment"
   ]
  },
  {
   "cell_type": "markdown",
   "metadata": {},
   "source": [
    "Once analysis has run, examine the results."
   ]
  },
  {
   "cell_type": "code",
   "execution_count": 26,
   "metadata": {
    "collapsed": true
   },
   "outputs": [],
   "source": [
    "%matplotlib inline\n",
    "import matplotlib.pyplot as plt\n",
    "\n",
    "# extract lists of the variables\n",
    "margins = [ i[4] for i in outputs ]"
   ]
  },
  {
   "cell_type": "code",
   "execution_count": 27,
   "metadata": {},
   "outputs": [
    {
     "data": {
      "text/plain": [
       "[<matplotlib.lines.Line2D at 0x1f48d248898>]"
      ]
     },
     "execution_count": 27,
     "metadata": {},
     "output_type": "execute_result"
    },
    {
     "data": {
      "image/png": "[encoded data removed]",
      "text/plain": [
       "<matplotlib.figure.Figure at 0x1f48ce5cb00>"
      ]
     },
     "metadata": {},
     "output_type": "display_data"
    }
   ],
   "source": [
    "plt.plot(range(0,len(margins)), margins)"
   ]
  },
  {
   "cell_type": "markdown",
   "metadata": {
    "collapsed": true
   },
   "source": [
    "### Feedback from stand up\n",
    "\n",
    "Eventually move to less boilerplate code in this document\n",
    "    Place in another python file\n",
    "\n",
    "Sections before Analysis for the set up of this specific analysis iteration\n",
    "    Where values are specified\n",
    "\n",
    "Check out open source libraries for orbits\n",
    "    Astropy ?\n",
    "\n",
    "Add tasks for the relevant work\n",
    "Add tasks in Taiga for describing each subsection"
   ]
  }
 ],
 "metadata": {
  "kernelspec": {
   "display_name": "Python 3",
   "language": "python",
   "name": "python3"
  },
  "language_info": {
   "codemirror_mode": {
    "name": "ipython",
    "version": 3
   },
   "file_extension": ".py",
   "mimetype": "text/x-python",
   "name": "python",
   "nbconvert_exporter": "python",
   "pygments_lexer": "ipython3",
   "version": "3.6.1"
  }
 },
 "nbformat": 4,
 "nbformat_minor": 2
}
