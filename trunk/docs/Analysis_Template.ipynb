{
 "cells": [
  {
   "cell_type": "code",
   "execution_count": 15,
   "metadata": {
    "collapsed": true
   },
   "outputs": [],
   "source": [
    "import pint\n",
    "import os, sys\n",
    "\n",
    "# ---------\n",
    "# add lib folder to the path\n",
    "def is_root(path):\n",
    "    \"\"\"\n",
    "    Determine whether the path passed is the root directory for the file system\n",
    "    \"\"\"\n",
    "    return not os.path.split(os.path.normpath(os.path.abspath(path)))[1]\n",
    "\n",
    "def is_root_project_dir(path):\n",
    "    \"\"\"\n",
    "    Determine whether the path specified is the root project directory by looking for \n",
    "    __mtk__.py in the directory. If the root file system directory is encountered, throw\n",
    "    an exception\n",
    "    \"\"\"\n",
    "    PROJECT_ROOT_FILE = '__mtk__.py'\n",
    "    \n",
    "    # make sure the path is in an OK format (ends with a directory separator)\n",
    "    search_path = str(path)\n",
    "    if (not search_path.endswith(os.sep)):\n",
    "        search_path += os.sep\n",
    "        \n",
    "    # make sure the path isn't the root. if it is, there's a problem\n",
    "    if (is_root(search_path)):\n",
    "        raise Exception('Failed to locate root MTK directory (directory containint %s)' % PROJECT_ROOT_FILE)\n",
    "        \n",
    "    # check to see whether we can find the project root file in this path\n",
    "    return os.path.isfile(search_path + PROJECT_ROOT_FILE)\n",
    "\n",
    "def get_project_root():\n",
    "    \"\"\"\n",
    "    Locate the project's root directory and return its location. If the root file system\n",
    "    directory is encountered, throw an exception\n",
    "    \"\"\"\n",
    "    search_path = os.getcwd() + os.sep\n",
    "    count = 0\n",
    "    while (not is_root_project_dir(search_path)):\n",
    "        search_path = os.path.normpath(os.path.abspath(search_path + '..' + os.sep)) + os.sep\n",
    "    return search_path\n",
    "\n",
    "lib_path = get_project_root()\n",
    "sys.path.insert(0, lib_path)\n",
    "# ----------------\n",
    "\n",
    "from lib.calculator import LinkBudgetCalculator\n",
    "from tests.link_budget_test_case_dataset import LinkBudgetTestCaseDataset"
   ]
  },
  {
   "cell_type": "code",
   "execution_count": 16,
   "metadata": {
    "collapsed": true
   },
   "outputs": [],
   "source": [
    "ureg = pint.UnitRegistry()\n",
    "\n",
    "# create the linkBudgetCalculator object\n",
    "lb_calc = LinkBudgetCalculator(ureg)"
   ]
  },
  {
   "cell_type": "markdown",
   "metadata": {},
   "source": [
    "## Analysis of Design Iteration X"
   ]
  },
  {
   "cell_type": "markdown",
   "metadata": {},
   "source": [
    "### Description\n",
    "\n",
    "<br>\n",
    "TEMPLATE <br>\n",
    "DESCRIPTION <br>\n",
    "FOR <br>\n",
    "DESIGNS <br>\n",
    "<br>\n",
    "\n",
    "![alt text](block_diagram_template.png \"Block Diagram\")\n",
    "*<p style=\"text-align: center;\">Block Diagram</p>*\n"
   ]
  },
  {
   "cell_type": "markdown",
   "metadata": {},
   "source": [
    "### Setup of Ground Station Values\n",
    "\n",
    "DESCRIBE PARAMETERS OF GROUND STATION\n",
    "\n",
    "Values for specific ground station are below:"
   ]
  },
  {
   "cell_type": "code",
   "execution_count": 17,
   "metadata": {
    "collapsed": true
   },
   "outputs": [],
   "source": [
    "lb_calc.altitude_ground_station   =  400 * ureg.meter\n",
    "lb_calc.implementation_loss       = -1.0   # dB\n",
    "lb_calc.polarization_losses       =  0.0   # dB\n",
    "lb_calc.receive_antenna_gain      =  5.4   # dB\n",
    "lb_calc.system_noise_figure       =  5.0   # dB"
   ]
  },
  {
   "cell_type": "markdown",
   "metadata": {},
   "source": [
    "### Setup of Satellite Values\n",
    "\n",
    "Values stated for a certain NOAA satellite. These values are covered in the documentation."
   ]
  },
  {
   "cell_type": "code",
   "execution_count": 18,
   "metadata": {
    "collapsed": true
   },
   "outputs": [],
   "source": [
    "lb_calc.altitude_satellite        =  860 * ureg.kilometer\n",
    "lb_calc.transmit_power            =  5.0 * ureg.watt\n",
    "lb_calc.transmit_losses           = -1.0   # dB\n",
    "lb_calc.transmit_antenna_gain     =  4.0   # dBi"
   ]
  },
  {
   "cell_type": "markdown",
   "metadata": {},
   "source": [
    "### Setup of Additional Values"
   ]
  },
  {
   "cell_type": "markdown",
   "metadata": {},
   "source": [
    "Create functions for the changing elevation angle and atmospheric loss values."
   ]
  },
  {
   "cell_type": "code",
   "execution_count": 19,
   "metadata": {
    "collapsed": true
   },
   "outputs": [],
   "source": [
    "def atmloss_at_elev(elev):\n",
    "    return -4.6 if elev < 5  * ureg.degrees else \\\n",
    "           -2.1 if elev < 10 * ureg.degrees else \\\n",
    "           -1.1 if elev < 30 * ureg.degrees else \\\n",
    "           -0.4 if elev < 45 * ureg.degrees else \\\n",
    "           -0.3 if elev < 90 * ureg.degrees else 0.0\n",
    "\n",
    "def rx_pointing_loss_at_elev(elev):\n",
    "    return -10.0 if elev < 5  * ureg.degrees else \\\n",
    "           -6.0  if elev < 20 * ureg.degrees else \\\n",
    "           -3.0  if elev < 35 * ureg.degrees else \\\n",
    "           -1.0  if elev < 50 * ureg.degrees else 0.0"
   ]
  },
  {
   "cell_type": "markdown",
   "metadata": {},
   "source": [
    "Set paramaters for the analysis here"
   ]
  },
  {
   "cell_type": "code",
   "execution_count": 20,
   "metadata": {
    "collapsed": true
   },
   "outputs": [],
   "source": [
    "elev_max = 90 * ureg.degrees\n",
    "elev_increment = 0.1 * ureg.degrees"
   ]
  },
  {
   "cell_type": "markdown",
   "metadata": {},
   "source": [
    "Additional values are needed for the channel characteristics. A few of these values will change during an orbital pass!"
   ]
  },
  {
   "cell_type": "code",
   "execution_count": 28,
   "metadata": {
    "collapsed": true
   },
   "outputs": [],
   "source": [
    "lb_calc.orbit_elevation_angle     =  elev_increment\n",
    "lb_calc.downlink_frequency        =  137.5          * ureg.megahertz\n",
    "lb_calc.target_energy_noise_ratio =  20.0             # dB\n",
    "lb_calc.noise_bandwidth           =  34.0           * ureg.kilohertz\n",
    "lb_calc.transmit_pointing_loss    = -3.0              # dB\n",
    "lb_calc.atmospheric_loss          =  atmloss_at_elev(lb_calc.orbit_elevation_angle)\n",
    "lb_calc.receiving_pointing_loss   =  rx_pointing_loss_at_elev(lb_calc.orbit_elevation_angle)"
   ]
  },
  {
   "cell_type": "markdown",
   "metadata": {},
   "source": [
    "### Analysis"
   ]
  },
  {
   "cell_type": "markdown",
   "metadata": {
    "collapsed": true
   },
   "source": [
    "Define variables for running a sweep over an orbital pass."
   ]
  },
  {
   "cell_type": "markdown",
   "metadata": {},
   "source": [
    "Increment through an entire orbital pass."
   ]
  },
  {
   "cell_type": "code",
   "execution_count": 29,
   "metadata": {},
   "outputs": [],
   "source": [
    "outputs = []\n",
    "angles  = []\n",
    "rising  = True\n",
    "\n",
    "# DEBUG\n",
    "temp = []\n",
    "\n",
    "while rising or lb_calc.orbit_elevation_angle.magnitude > 0:\n",
    "    # compute the budget\n",
    "    lb_calc.run()\n",
    "    \n",
    "    # ensure the computation was valid\n",
    "    if not lb_calc.is_valid:\n",
    "        raise Exception('Run at elevation angle ', lb_calc.orbit_elevation_angle, ' was not valid')\n",
    "    \n",
    "    # save output as a tuple to output list\n",
    "    outputs.append( (lb_calc.link_distance, \\\n",
    "                     lb_calc.downlink_path_loss, \\\n",
    "                     lb_calc.received_power, \\\n",
    "                     lb_calc.energy_noise_ratio, \\\n",
    "                     lb_calc.link_margin) )\n",
    "    angles.append( lb_calc.orbit_elevation_angle.magnitude )\n",
    "    \n",
    "    # handle the rising variable\n",
    "    if rising:\n",
    "        rising = lb_calc.orbit_elevation_angle < elev_max\n",
    "    \n",
    "    # increment the elevation angle\n",
    "    lb_calc.orbit_elevation_angle += elev_increment if rising else -elev_increment\n",
    "    lb_calc.atmospheric_loss          =  atmloss_at_elev(lb_calc.orbit_elevation_angle)\n",
    "    lb_calc.receiving_pointing_loss   =  rx_pointing_loss_at_elev(lb_calc.orbit_elevation_angle)"
   ]
  },
  {
   "cell_type": "markdown",
   "metadata": {},
   "source": [
    "Once analysis has run, examine the results."
   ]
  },
  {
   "cell_type": "code",
   "execution_count": 30,
   "metadata": {
    "collapsed": true
   },
   "outputs": [],
   "source": [
    "%matplotlib inline\n",
    "import matplotlib.pyplot as plt\n",
    "\n",
    "# extract lists of the variables\n",
    "distances = [ i[0].magnitude for i in outputs ]\n",
    "loss      = [ i[1] for i in outputs ]\n",
    "rx_pow    = [ i[2] for i in outputs ]\n",
    "eb_no     = [ i[3] for i in outputs ]\n",
    "margins   = [ i[4] for i in outputs ]\n",
    "\n",
    "# removing the last value which was zero for some reason\n",
    "margins = margins[:-1]"
   ]
  },
  {
   "cell_type": "code",
   "execution_count": 31,
   "metadata": {},
   "outputs": [
    {
     "data": {
      "text/plain": [
       "[<matplotlib.lines.Line2D at 0x199ba04bba8>,\n",
       " <matplotlib.lines.Line2D at 0x199ba04bd68>]"
      ]
     },
     "execution_count": 31,
     "metadata": {},
     "output_type": "execute_result"
    },
    {
     "data": {
      "image/png": "[encoded data removed]",
      "text/plain": [
       "<matplotlib.figure.Figure at 0x199b9e36278>"
      ]
     },
     "metadata": {},
     "output_type": "display_data"
    }
   ],
   "source": [
    "plt.plot(range(0, len(margins)), margins, 'b', range(0, len(margins)), [0] * len(margins), 'r--')"
   ]
  },
  {
   "cell_type": "markdown",
   "metadata": {},
   "source": [
    "### Conclusions\n",
    "\n",
    "DETAIL CONCLUSIONS FOR THIS ITERATION\n",
    "\n",
    "PROBABLY WILL VARY GREATLY FOR EACH ITERATION"
   ]
  },
  {
   "cell_type": "code",
   "execution_count": null,
   "metadata": {
    "collapsed": true
   },
   "outputs": [],
   "source": []
  },
  {
   "cell_type": "code",
   "execution_count": null,
   "metadata": {
    "collapsed": true
   },
   "outputs": [],
   "source": []
  }
 ],
 "metadata": {
  "kernelspec": {
   "display_name": "Python 3",
   "language": "python",
   "name": "python3"
  },
  "language_info": {
   "codemirror_mode": {
    "name": "ipython",
    "version": 3
   },
   "file_extension": ".py",
   "mimetype": "text/x-python",
   "name": "python",
   "nbconvert_exporter": "python",
   "pygments_lexer": "ipython3",
   "version": "3.6.1"
  }
 },
 "nbformat": 4,
 "nbformat_minor": 2
}
